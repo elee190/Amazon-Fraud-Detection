{
 "cells": [
  {
   "cell_type": "code",
   "execution_count": 1,
   "id": "f456b61c-cab9-4908-b364-94076b61a11f",
   "metadata": {},
   "outputs": [],
   "source": [
    "import pandas as pd\n",
    "import numpy as np\n",
    "\n",
    "import matplotlib.pyplot as plt\n",
    "import seaborn as sns\n",
    "sns.set_theme()\n",
    "\n",
    "from sklearn.preprocessing import StandardScaler, OneHotEncoder\n",
    "from sklearn.pipeline import Pipeline\n",
    "from imblearn.over_sampling import SMOTENC, SMOTEN\n",
    "from sklearn.linear_model import LogisticRegression\n",
    "from sklearn.ensemble import RandomForestClassifier, GradientBoostingClassifier\n",
    "from sklearn.model_selection import train_test_split, GridSearchCV, cross_val_score\n",
    "from sklearn.decomposition import PCA\n",
    "from sklearn.metrics import (balanced_accuracy_score, ConfusionMatrixDisplay, \n",
    "                            recall_score, precision_score, f1_score)\n",
    "\n",
    "pd.options.display.max_columns = None"
   ]
  },
  {
   "cell_type": "code",
   "execution_count": 2,
   "id": "b3347d1e-0b91-4818-923c-8c53a3af1e36",
   "metadata": {},
   "outputs": [],
   "source": [
    "df = pd.read_csv('../datasets/dropna_df.csv')"
   ]
  },
  {
   "cell_type": "code",
   "execution_count": 3,
   "id": "c0b80932-df6a-4adb-bfd3-c75699816a2d",
   "metadata": {},
   "outputs": [],
   "source": [
    "def evaluation(X_test, y_test, preds, model):\n",
    "    plt.figure(figsize = (10, 8))\n",
    "    ConfusionMatrixDisplay.from_estimator(model, X_test, y_test, cmap='copper')\n",
    "    \n",
    "    b_acc = balanced_accuracy_score(y_test, preds)\n",
    "    recall = recall_score(y_test, preds, pos_label = 1)\n",
    "    prec = precision_score(y_test, preds, pos_label = 1)\n",
    "    f1 = f1_score(y_test, preds, pos_label = 1)\n",
    "\n",
    "    print(f'balanced_accuracy: {b_acc}')\n",
    "    print(f'recall: {recall}')\n",
    "    print(f'precision: {prec}')\n",
    "    print(f'f1 score: {f1}')\n",
    "\n",
    "    return {\n",
    "        'balanced_accuracy': b_acc,\n",
    "        'recall': recall,\n",
    "        'precision': prec,\n",
    "        'f1_score': f1\n",
    "    }"
   ]
  },
  {
   "cell_type": "markdown",
   "id": "1ae15200-fb36-4112-bd53-64e0d3bce8eb",
   "metadata": {},
   "source": [
    "---"
   ]
  },
  {
   "cell_type": "code",
   "execution_count": 4,
   "id": "11a8e7dd-e6d2-4de5-a6d9-ec77835d3e0c",
   "metadata": {},
   "outputs": [],
   "source": [
    "#continuous features only\n",
    "contin_cols = ['helpful_count', 'num_images', 'num_comments', 'price_low', 'num_reviews', 'num_images_pdp']\n",
    "\n",
    "# isolate target variable\n",
    "y = df['grey_sale'].values"
   ]
  },
  {
   "cell_type": "code",
   "execution_count": 5,
   "id": "82c6cd76-8cd8-4284-a809-17a1d50a4d3c",
   "metadata": {},
   "outputs": [],
   "source": [
    "smoten = SMOTEN()\n",
    "# SMOTEN for continuous features\n",
    "\n",
    "xcon_resam, ycon_resam = smoten.fit_resample(df[contin_cols], y)\n",
    "\n",
    "# train-test split for SMOTEN resample of continuous features\n",
    "X_train, X_test, y_train, y_test = train_test_split(xcon_resam, ycon_resam, stratify = ycon_resam, random_state = 22)"
   ]
  },
  {
   "cell_type": "code",
   "execution_count": 6,
   "id": "443a7498-66c9-4f43-afce-0b26dd60f9e5",
   "metadata": {},
   "outputs": [
    {
     "name": "stdout",
     "output_type": "stream",
     "text": [
      "Training set score: 0.9343640064229339\n",
      "5-fold cross-validated TEST set average: 0.933117480263126\n"
     ]
    }
   ],
   "source": [
    "# fit / score\n",
    "rcon = RandomForestClassifier()\n",
    "\n",
    "rcon.fit(X_train, y_train)\n",
    "\n",
    "print(f'Training set score: {rcon.score(X_train, y_train)}')\n",
    "\n",
    "print(f'5-fold cross-validated TEST set average: {cross_val_score(rcon, X_test, y_test).mean()}')"
   ]
  },
  {
   "cell_type": "code",
   "execution_count": 7,
   "id": "023a1767-5be4-4e02-88f1-c55f93b071d9",
   "metadata": {},
   "outputs": [
    {
     "name": "stdout",
     "output_type": "stream",
     "text": [
      "balanced_accuracy: 0.9337065816207459\n",
      "recall: 0.9700755968378204\n",
      "precision: 0.9043000512782946\n",
      "f1 score: 0.9360337271196979\n"
     ]
    },
    {
     "data": {
      "text/plain": [
       "{'balanced_accuracy': 0.9337065816207459,\n",
       " 'recall': 0.9700755968378204,\n",
       " 'precision': 0.9043000512782946,\n",
       " 'f1_score': 0.9360337271196979}"
      ]
     },
     "execution_count": 7,
     "metadata": {},
     "output_type": "execute_result"
    },
    {
     "data": {
      "text/plain": [
       "<Figure size 1000x800 with 0 Axes>"
      ]
     },
     "metadata": {},
     "output_type": "display_data"
    },
    {
     "data": {
      "image/png": "[encoded data removed]",
      "text/plain": [
       "<Figure size 640x480 with 2 Axes>"
      ]
     },
     "metadata": {},
     "output_type": "display_data"
    }
   ],
   "source": [
    "# evaluation metrics\n",
    "preds = rcon.predict(X_test)\n",
    "evaluation(X_test, y_test, preds, rcon)"
   ]
  },
  {
   "cell_type": "code",
   "execution_count": 8,
   "id": "59eaf467-f22e-4583-9fd7-041df7ef38b1",
   "metadata": {},
   "outputs": [
    {
     "data": {
      "text/plain": [
       "(0.4106630746288389, 0.026764739081322722)"
      ]
     },
     "execution_count": 8,
     "metadata": {},
     "output_type": "execute_result"
    }
   ],
   "source": [
    "max(rcon.feature_importances_), min(rcon.feature_importances_)"
   ]
  },
  {
   "cell_type": "code",
   "execution_count": 9,
   "id": "07124e5a-48ba-4bf0-a5fe-3995fd413252",
   "metadata": {},
   "outputs": [
    {
     "data": {
      "text/plain": [
       "[{'helpful_count': 0.09789428480316734},\n",
       " {'num_images': 0.03805184030572018},\n",
       " {'num_comments': 0.026764739081322722},\n",
       " {'price_low': 0.4106630746288389},\n",
       " {'num_reviews': 0.269405638574617},\n",
       " {'num_images_pdp': 0.15722042260633384}]"
      ]
     },
     "execution_count": 9,
     "metadata": {},
     "output_type": "execute_result"
    }
   ],
   "source": [
    "# features and coefficients\n",
    "features_listed = []\n",
    "\n",
    "for i in range(len(rcon.feature_names_in_)):\n",
    "    features_listed.append({rcon.feature_names_in_[i] : rcon.feature_importances_[i]})\n",
    "    \n",
    "features_listed"
   ]
  },
  {
   "cell_type": "markdown",
   "id": "54405d4a-02a3-4b26-ad07-bccf4dcf0ed0",
   "metadata": {},
   "source": [
    "---"
   ]
  },
  {
   "cell_type": "code",
   "execution_count": 10,
   "id": "641ca402-9d5b-46d9-b93e-94d8e0559c7a",
   "metadata": {},
   "outputs": [
    {
     "name": "stdout",
     "output_type": "stream",
     "text": [
      "Training set score: 0.6493607189914002\n",
      "5-fold cross-validated TEST set average: 0.6496821552937464\n"
     ]
    }
   ],
   "source": [
    "# running Logistic Regression with no penalty for interpretability\n",
    "logr = LogisticRegression(penalty = 'none', max_iter = 1_000, )\n",
    "\n",
    "logr.fit(X_train, y_train)\n",
    "           \n",
    "print(f'Training set score: {logr.score(X_train, y_train)}')\n",
    "\n",
    "print(f'5-fold cross-validated TEST set average: {cross_val_score(logr, X_test, y_test).mean()}')"
   ]
  },
  {
   "cell_type": "code",
   "execution_count": 11,
   "id": "ae6bec53-18d0-4c52-bf60-a91c6b8d7a8c",
   "metadata": {},
   "outputs": [
    {
     "name": "stdout",
     "output_type": "stream",
     "text": [
      "balanced_accuracy: 0.6491957195702991\n",
      "recall: 0.5462932402910714\n",
      "precision: 0.6878611572864719\n",
      "f1 score: 0.6089576818297288\n"
     ]
    },
    {
     "data": {
      "text/plain": [
       "{'balanced_accuracy': 0.6491957195702991,\n",
       " 'recall': 0.5462932402910714,\n",
       " 'precision': 0.6878611572864719,\n",
       " 'f1_score': 0.6089576818297288}"
      ]
     },
     "execution_count": 11,
     "metadata": {},
     "output_type": "execute_result"
    },
    {
     "data": {
      "text/plain": [
       "<Figure size 1000x800 with 0 Axes>"
      ]
     },
     "metadata": {},
     "output_type": "display_data"
    },
    {
     "data": {
      "image/png": "[encoded data removed]",
      "text/plain": [
       "<Figure size 640x480 with 2 Axes>"
      ]
     },
     "metadata": {},
     "output_type": "display_data"
    }
   ],
   "source": [
    "# evaluation metrics\n",
    "logr_preds = logr.predict(X_test)\n",
    "evaluation(X_test, y_test, logr_preds, logr)"
   ]
  },
  {
   "cell_type": "code",
   "execution_count": 12,
   "id": "41e1e9eb-34ba-4993-b1d4-57ec3921fa7e",
   "metadata": {},
   "outputs": [
    {
     "data": {
      "text/plain": [
       "[{'helpful_count': 0.14145760832947696},\n",
       " {'num_images': 0.6844295672421775},\n",
       " {'num_comments': 0.855304951082772},\n",
       " {'price_low': -0.00020195492651877756},\n",
       " {'num_reviews': -0.0011782374638884972},\n",
       " {'num_images_pdp': -0.09971496688098808}]"
      ]
     },
     "execution_count": 12,
     "metadata": {},
     "output_type": "execute_result"
    }
   ],
   "source": [
    "# features and coefficients\n",
    "features_listed = []\n",
    "\n",
    "for i in range(len(logr.feature_names_in_)):\n",
    "    features_listed.append({logr.feature_names_in_[i] : logr.coef_[0][i]})\n",
    "    \n",
    "features_listed"
   ]
  },
  {
   "cell_type": "code",
   "execution_count": 13,
   "id": "487e257b-1d45-4d2b-bb97-b232268e81c8",
   "metadata": {},
   "outputs": [
    {
     "name": "stdout",
     "output_type": "stream",
     "text": [
      "Training set score: 0.8860898424914277\n",
      "5-fold cross-validated TEST set average: 0.886077339105098\n",
      "balanced_accuracy: 0.885919603478164\n",
      "recall: 0.9586181966775111\n",
      "precision: 0.836932956447762\n",
      "f1 score: 0.8936522471704333\n"
     ]
    },
    {
     "data": {
      "text/plain": [
       "{'balanced_accuracy': 0.885919603478164,\n",
       " 'recall': 0.9586181966775111,\n",
       " 'precision': 0.836932956447762,\n",
       " 'f1_score': 0.8936522471704333}"
      ]
     },
     "execution_count": 13,
     "metadata": {},
     "output_type": "execute_result"
    },
    {
     "data": {
      "text/plain": [
       "<Figure size 1000x800 with 0 Axes>"
      ]
     },
     "metadata": {},
     "output_type": "display_data"
    },
    {
     "data": {
      "image/png": "[encoded data removed]",
      "text/plain": [
       "<Figure size 640x480 with 2 Axes>"
      ]
     },
     "metadata": {},
     "output_type": "display_data"
    }
   ],
   "source": [
    "# number of images/comments on the review are the most important features, not good for our model\n",
    "# we don't want to have 'review' information in our model's features, too much data leakage\n",
    "contin_cols2 = ['price_low', 'num_reviews', 'num_images_pdp']\n",
    "\n",
    "# rerun our SMOTEN and Random Forest for reduced set of continuous feature\n",
    "smoten2 = SMOTEN()\n",
    "# SMOTEN for continuous features\n",
    "\n",
    "xcon_resam2, ycon_resam2 = smoten2.fit_resample(df[contin_cols2], y)\n",
    "\n",
    "# train-test split for SMOTEN resample of continuous features\n",
    "X_train2, X_test2, y_train2, y_test2 = train_test_split(xcon_resam2, ycon_resam2, stratify = ycon_resam2, random_state = 22)\n",
    "\n",
    "# fit / score\n",
    "rcon2 = RandomForestClassifier()\n",
    "\n",
    "rcon2.fit(X_train2, y_train2)\n",
    "\n",
    "print(f'Training set score: {rcon2.score(X_train2, y_train2)}')\n",
    "\n",
    "print(f'5-fold cross-validated TEST set average: {cross_val_score(rcon2, X_test2, y_test2).mean()}')\n",
    "\n",
    "# evaluation metrics\n",
    "preds2 = rcon2.predict(X_test2)\n",
    "evaluation(X_test2, y_test2, preds2, rcon2)\n",
    "\n",
    "# slightly lower performance but still very good, and this time with no data leakage via reviews-data"
   ]
  },
  {
   "cell_type": "code",
   "execution_count": 27,
   "id": "db9d24ee-eb93-490c-ad24-88eb9ea432d4",
   "metadata": {},
   "outputs": [
    {
     "name": "stdout",
     "output_type": "stream",
     "text": [
      "Training set score: 0.9079414391877556\n",
      "TEST set score: 0.9070670239601424\n",
      "balanced_accuracy: 0.9070668220193594\n",
      "recall: 0.9327643924748927\n",
      "precision: 0.887169828243419\n",
      "f1 score: 0.9093959731543624\n"
     ]
    },
    {
     "data": {
      "text/plain": [
       "{'balanced_accuracy': 0.9070668220193594,\n",
       " 'recall': 0.9327643924748927,\n",
       " 'precision': 0.887169828243419,\n",
       " 'f1_score': 0.9093959731543624}"
      ]
     },
     "execution_count": 27,
     "metadata": {},
     "output_type": "execute_result"
    },
    {
     "data": {
      "text/plain": [
       "<Figure size 1000x800 with 0 Axes>"
      ]
     },
     "metadata": {},
     "output_type": "display_data"
    },
    {
     "data": {
      "image/png": "[encoded data removed]",
      "text/plain": [
       "<Figure size 640x480 with 2 Axes>"
      ]
     },
     "metadata": {},
     "output_type": "display_data"
    }
   ],
   "source": [
    "X_cols = ['price_low', 'num_reviews', 'num_images_pdp', # continuous features\n",
    "          'is_prime', 'offer_merchant', 'brand', 'category'] # categorical features\n",
    "\n",
    "# SMOTENC for continuous-categorical data\n",
    "smote_nc = SMOTENC(categorical_features = [3, 4, 5, 6])\n",
    "\n",
    "X_resamp, y_resamp = smote_nc.fit_resample(df[X_cols], y)\n",
    "\n",
    "# OHE categorical variables\n",
    "ohe_X_resamp = pd.get_dummies(X_resamp, columns = ['is_prime', 'offer_merchant', 'brand',\n",
    "                                                   'category'], drop_first = True)\n",
    "\n",
    "# train-test split\n",
    "x_tra, x_tes, y_tra, y_tes = train_test_split(ohe_X_resamp, y_resamp, stratify = y_resamp,\n",
    "                                              random_state = 22)\n",
    "\n",
    "rfc = RandomForestClassifier()\n",
    "# instatiate, fit, score Random Forest\n",
    "\n",
    "rfc.fit(x_tra, y_tra)\n",
    "\n",
    "print(f'Training set score: {rfc.score(x_tra, y_tra)}')\n",
    "\n",
    "# not using cross-validation due to exploded dimensionality from OHE\n",
    "print(f'TEST set score: {rfc.score(x_tes, y_tes)}')\n",
    "\n",
    "rfc_preds = rfc.predict(x_tes)\n",
    "evaluation(x_tes, y_tes, rfc_preds, rfc)"
   ]
  },
  {
   "cell_type": "code",
   "execution_count": 28,
   "id": "1b23799e-ec20-49bc-82e8-d53ee7ac26c7",
   "metadata": {},
   "outputs": [
    {
     "name": "stderr",
     "output_type": "stream",
     "text": [
      "/opt/anaconda3/lib/python3.9/site-packages/sklearn/linear_model/_sag.py:352: ConvergenceWarning: The max_iter was reached which means the coef_ did not converge\n",
      "  warnings.warn(\n"
     ]
    },
    {
     "name": "stdout",
     "output_type": "stream",
     "text": [
      "Training set score: 0.5291900344983851\n",
      "TEST set score: 0.5315945400108445\n",
      "balanced_accuracy: 0.5315938184500979\n",
      "recall: 0.6234145881465416\n",
      "precision: 0.5266959673885621\n",
      "f1 score: 0.5709884984669421\n"
     ]
    },
    {
     "data": {
      "text/plain": [
       "{'balanced_accuracy': 0.5315938184500979,\n",
       " 'recall': 0.6234145881465416,\n",
       " 'precision': 0.5266959673885621,\n",
       " 'f1_score': 0.5709884984669421}"
      ]
     },
     "execution_count": 28,
     "metadata": {},
     "output_type": "execute_result"
    },
    {
     "data": {
      "text/plain": [
       "<Figure size 1000x800 with 0 Axes>"
      ]
     },
     "metadata": {},
     "output_type": "display_data"
    },
    {
     "data": {
      "image/png": "[encoded data removed]",
      "text/plain": [
       "<Figure size 640x480 with 2 Axes>"
      ]
     },
     "metadata": {},
     "output_type": "display_data"
    }
   ],
   "source": [
    "logreg = LogisticRegression(solver = 'saga', max_iter = 1_000)\n",
    "# instatiate, fit, score Random Forest\n",
    "\n",
    "logreg.fit(x_tra, y_tra)\n",
    "\n",
    "print(f'Training set score: {logreg.score(x_tra, y_tra)}')\n",
    "\n",
    "# not using cross-validation due to exploded dimensionality from OHE\n",
    "print(f'TEST set score: {logreg.score(x_tes, y_tes)}')\n",
    "\n",
    "logreg_preds = logreg.predict(x_tes)\n",
    "evaluation(x_tes, y_tes, logreg_preds, rfc)"
   ]
  },
  {
   "cell_type": "code",
   "execution_count": 31,
   "id": "08770f0a-6301-45e9-948b-de8cc17d1c41",
   "metadata": {},
   "outputs": [
    {
     "data": {
      "text/plain": [
       "[{'price_low': 0.0008920947248097323},\n",
       " {'num_reviews': -2.902666275764548e-05},\n",
       " {'num_images_pdp': -0.003410575371797516},\n",
       " {'is_prime_True': -0.00033458086460535775},\n",
       " {'offer_merchant_2015 Beauty': -4.205848142773061e-08},\n",
       " {'offer_merchant_212 Distributors': -4.00013836056538e-07},\n",
       " {'offer_merchant_2K TIME LLC': -3.1384402378519075e-07},\n",
       " {'offer_merchant_2ndTimesaCharm': -7.032146286331621e-07},\n",
       " {'offer_merchant_37Watches': -4.3259151151165635e-07},\n",
       " {'offer_merchant_A Little Bit Of Fashion': -4.752127928083285e-08},\n",
       " {'offer_merchant_A&B Wireless': -3.319228624872866e-07},\n",
       " {'offer_merchant_A1 SERVICE': -2.961822374257636e-07},\n",
       " {'offer_merchant_AARYA SHOPPING': -8.250987942772966e-08},\n",
       " {'offer_merchant_ADVANCED ESSENTIALS': -2.520791205489062e-07},\n",
       " {\"offer_merchant_AH Bargain's Galore\": -4.948304080205231e-07},\n",
       " {'offer_merchant_AMAZING DEALS INC': -4.132629821201327e-07},\n",
       " {'offer_merchant_AVLGear': -4.789496909688745e-08},\n",
       " {'offer_merchant_AZPerfume': -5.462119510265078e-07},\n",
       " {'offer_merchant_AcousticSoundDesign Factory Authorized Dealer': -1.6416360914981342e-07},\n",
       " {'offer_merchant_Action Gear': -4.332814261861354e-08},\n",
       " {'offer_merchant_Adorama Camera': -9.73753121455316e-07},\n",
       " {'offer_merchant_Alex Beauty USA 123': 8.007745277569388e-06},\n",
       " {'offer_merchant_All Glitters!!!': -1.2930376711815483e-07},\n",
       " {'offer_merchant_Altivo Timepieces': -1.3445078773330137e-07},\n",
       " {'offer_merchant_Amazon Global Store UK': -4.2506433678361985e-08},\n",
       " {'offer_merchant_Amazon.com': 1.998755809186741e-05},\n",
       " {'offer_merchant_Amazon.com exclusively for Prime members': -3.840152487963329e-06},\n",
       " {'offer_merchant_American Standart': -8.247921161919447e-08},\n",
       " {'offer_merchant_American Swagg': 5.285606264679241e-06},\n",
       " {'offer_merchant_Ami Peluche': -4.1507998408061824e-08},\n",
       " {'offer_merchant_Amoldar': 0.0},\n",
       " {'offer_merchant_AreaTrend': -9.482880787168606e-06},\n",
       " {'offer_merchant_Arel & Eden': 0.0},\n",
       " {'offer_merchant_Ashar LLC': -3.240668801544187e-06},\n",
       " {'offer_merchant_AtoZ Shopping': -4.1322963084484764e-08},\n",
       " {'offer_merchant_AudioPoutine': -1.4513397500148152e-05},\n",
       " {'offer_merchant_AuthenticWatches com': -3.1327234156674336e-07},\n",
       " {\"offer_merchant_B'H\": -3.806721540595793e-06},\n",
       " {'offer_merchant_BEAUTY PLUS': -2.902799182991056e-07},\n",
       " {'offer_merchant_BEAUTY WORLD': -7.57982140739945e-07},\n",
       " {'offer_merchant_BLM & M Liquidators LLC,': -4.574769058562316e-07},\n",
       " {'offer_merchant_BUYZONEUSA': -1.2402013948909794e-07},\n",
       " {'offer_merchant_Backcountry': -1.3348737801171458e-07},\n",
       " {'offer_merchant_Bag Lady Collection': -1.3282167852906725e-07},\n",
       " {'offer_merchant_Bare Necessities': -4.224051580698282e-08},\n",
       " {'offer_merchant_Bargain7000': -4.604693987117589e-07},\n",
       " {'offer_merchant_Bargaindeals4U': -4.1606845430537607e-07},\n",
       " {'offer_merchant_Beach Camera Same Day Shipping': -3.7915536945903733e-06},\n",
       " {'offer_merchant_Beautiful Deal-Kingdom': -1.129870707720063e-06},\n",
       " {'offer_merchant_Beauty Collection': -2.4894241585665797e-07},\n",
       " {'offer_merchant_Beauty Savings': -1.1101326258311956e-06},\n",
       " {'offer_merchant_Beauty Vision': 5.603416738081712e-07},\n",
       " {'offer_merchant_Beauty39': -5.406500849669354e-07},\n",
       " {'offer_merchant_Beauty4everyone': -4.568972805875822e-07},\n",
       " {'offer_merchant_BeautyEncounter': 0.00011833922233751805},\n",
       " {'offer_merchant_BeautyYourWay': -2.5207142227539945e-07},\n",
       " {'offer_merchant_BeautyandGlamour': -1.2435196465251538e-07},\n",
       " {'offer_merchant_Beautyhabit': -4.174456347019312e-08},\n",
       " {'offer_merchant_Beautynation': -7.533047945701599e-07},\n",
       " {'offer_merchant_BellaOchio': -1.288032751529812e-07},\n",
       " {'offer_merchant_Best Buy Sneakers': -4.1719915189026237e-08},\n",
       " {'offer_merchant_Bigsavingz': -2.9006086547888496e-07},\n",
       " {'offer_merchant_Blu Sky': -3.5713560986820814e-05},\n",
       " {'offer_merchant_Branded and New ‰ÛÒ Delivering to you in 2-3 Business Days': -3.4501183214995963e-07},\n",
       " {\"offer_merchant_Brickell Men's Products\": -1.4265148866995536e-05},\n",
       " {'offer_merchant_Britt & Jules': -2.370196342937083e-07},\n",
       " {'offer_merchant_BuyIn Commerce': -1.5856010043307377e-09},\n",
       " {'offer_merchant_BuySPRY': -1.2923327444451881e-06},\n",
       " {'offer_merchant_CABIGGIRL': -9.141134365940035e-08},\n",
       " {'offer_merchant_CASA Beauty': -7.091935028077815e-07},\n",
       " {'offer_merchant_CF Link': -1.6604752880027788e-07},\n",
       " {'offer_merchant_COSZIA': -1.2676500829804343e-07},\n",
       " {'offer_merchant_CampSaver': -4.463398982769707e-08},\n",
       " {'offer_merchant_Caya Cosmetics': -2.0702035254059545e-07},\n",
       " {'offer_merchant_Chp Deals': -3.722621383603536e-07},\n",
       " {\"offer_merchant_Christine's Fashion House\": -4.5559500086184697e-07},\n",
       " {'offer_merchant_ChronoStore': -4.105221831203034e-07},\n",
       " {'offer_merchant_Click Shop and Run Inc': 0.0},\n",
       " {'offer_merchant_Copper-Pennys-Books and Music': -2.895295017943332e-07},\n",
       " {'offer_merchant_Cory Schwartzq': -4.772052673279935e-07},\n",
       " {'offer_merchant_Cos Bar': -4.173692698848656e-07},\n",
       " {'offer_merchant_Cosmetic Source Plus': -5.07627592644539e-06},\n",
       " {'offer_merchant_CosmeticMall': -1.328886329109884e-06},\n",
       " {'offer_merchant_CosmeticRX': -1.7273373196613275e-06},\n",
       " {'offer_merchant_Cosmetics Express': -1.2404903753266268e-07},\n",
       " {'offer_merchant_Cosmetics LLC': 0.0},\n",
       " {'offer_merchant_Cosmetics World': 6.975959719499439e-05},\n",
       " {'offer_merchant_D&DL': -4.1621829275318036e-08},\n",
       " {'offer_merchant_DLC Investment': -1.6914670217111906e-06},\n",
       " {'offer_merchant_Daily Beauty Store': -2.2750934116404488e-06},\n",
       " {'offer_merchant_Daniel Express Communications': -4.5259335698729336e-08},\n",
       " {'offer_merchant_DataVision Computer Video': -2.7635132055856683e-05},\n",
       " {'offer_merchant_Deal candy': -1.1405588283939128e-07},\n",
       " {'offer_merchant_Deal hunters': -1.7647868502039748e-07},\n",
       " {'offer_merchant_Dealer Express': -3.3060384695826567e-07},\n",
       " {'offer_merchant_Deals Buzz Health': -1.650304312219155e-07},\n",
       " {'offer_merchant_DesignHer Boutique': 0.0},\n",
       " {'offer_merchant_Designer Eyewear': -4.4258887837664604e-08},\n",
       " {'offer_merchant_Designer Fashion Direct': -7.815300757127942e-07},\n",
       " {'offer_merchant_Designer Gifts': -4.755927800917571e-08},\n",
       " {'offer_merchant_Designer Optics': -4.501664341269966e-08},\n",
       " {'offer_merchant_DesignerBagLadies': 3.851282226235495e-08},\n",
       " {'offer_merchant_Designer_Store': -1.2173899301323263e-06},\n",
       " {'offer_merchant_Diamond Source': 0.0},\n",
       " {'offer_merchant_DirectLuxury': -9.701131770374854e-08},\n",
       " {'offer_merchant_DiscountsJungle': -3.7244039651887065e-07},\n",
       " {'offer_merchant_Divine Cosmetics International': 4.044383318542651e-08},\n",
       " {'offer_merchant_Dorado Global Market': -4.1376223145126513e-07},\n",
       " {'offer_merchant_EPICDEALZ': -4.157024894796175e-08},\n",
       " {'offer_merchant_EShopUSA': -3.4037670552384397e-06},\n",
       " {'offer_merchant_Easy Super Deals': -5.014129228659857e-07},\n",
       " {'offer_merchant_Electronics Expo': -2.8991255373412624e-07},\n",
       " {'offer_merchant_Elite Accessories Inc': -1.984761671787523e-07},\n",
       " {'offer_merchant_Empire Time NYC': -1.3826461319341076e-07},\n",
       " {'offer_merchant_EpicVisionz': -6.263781682983049e-07},\n",
       " {'offer_merchant_Exclusive Style': -1.3572114005248058e-07},\n",
       " {'offer_merchant_ExclusiveBeautyClub': -5.394889276733495e-07},\n",
       " {'offer_merchant_Extravaganzaonline': -5.658762156998385e-07},\n",
       " {'offer_merchant_FAVORITE FRAGRANCE': -5.924927922245773e-07},\n",
       " {'offer_merchant_FRMODA': -1.8889861078119765e-07},\n",
       " {'offer_merchant_FactoryStock': -1.2665828931712271e-07},\n",
       " {'offer_merchant_Fashion Dreams': -1.7113938743420064e-07},\n",
       " {'offer_merchant_FastScentNation': -3.756195261745457e-07},\n",
       " {'offer_merchant_Fauette Beauty & Spa': -2.473411551896722e-06},\n",
       " {'offer_merchant_FedBeauty Express': -1.24318262550105e-07},\n",
       " {'offer_merchant_FigureFiveWholesale': -1.2610855372792974e-07},\n",
       " {'offer_merchant_Flash Deals Inc': -1.6866726266789428e-07},\n",
       " {'offer_merchant_Flawless Glam': -5.321507897775051e-06},\n",
       " {'offer_merchant_Focus Camera- Same Day Shipping': -2.296019551989596e-05},\n",
       " {'offer_merchant_FragranceMarket': -8.336411772487661e-08},\n",
       " {'offer_merchant_Frames Spot': -5.482481446640583e-07},\n",
       " {'offer_merchant_Freeheart': -1.6688457086112448e-07},\n",
       " {'offer_merchant_Fresh Pearl': -5.246554685452938e-07},\n",
       " {'offer_merchant_Fun Stuff For Sale': -2.485883937484221e-07},\n",
       " {'offer_merchant_GENUINE WATCHES': -2.757317612260159e-06},\n",
       " {'offer_merchant_GOOD BUY NY': -4.1471057336857535e-08},\n",
       " {'offer_merchant_GUESS Factory': -8.337131069250605e-08},\n",
       " {\"offer_merchant_Gaby's Bags\": -3.251926627911433e-06},\n",
       " {'offer_merchant_Gatzies': -4.120961971433187e-08},\n",
       " {'offer_merchant_GetYourThing': 0.0},\n",
       " {'offer_merchant_GiftMart': -1.2436849970035382e-06},\n",
       " {'offer_merchant_Giftshop and Beyond': -3.3441536190560925e-07},\n",
       " {'offer_merchant_Giftstreet': -8.884553049252585e-08},\n",
       " {'offer_merchant_Girl Shop': -4.1854234761297934e-08},\n",
       " {'offer_merchant_Girl vs Beauty': -3.2345179241646678e-06},\n",
       " {'offer_merchant_Global Beauty USA': -2.492897413044866e-07},\n",
       " {'offer_merchant_Global Supplies NY': -1.2572515527032906e-07},\n",
       " {'offer_merchant_Go Guys 88 (ship from Japan 3-8days delivery)': -5.164929142594086e-08},\n",
       " {'offer_merchant_GoldenGadgets': -3.3329729943743274e-07},\n",
       " {'offer_merchant_Great Discount Jewelry & Watches': -1.3992340875288696e-07},\n",
       " {'offer_merchant_Greenjobs': -1.238666636238622e-07},\n",
       " {'offer_merchant_Gulf South Trade Co.': -2.5053181683583864e-07},\n",
       " {'offer_merchant_H2H Trading': -2.519066517864566e-07},\n",
       " {'offer_merchant_HAVE2HAVE': -9.21053615321071e-08},\n",
       " {'offer_merchant_HBA-AND-MORE': -1.1176419920680396e-06},\n",
       " {'offer_merchant_HDO Sport': -4.783599010482005e-08},\n",
       " {'offer_merchant_HERER': -3.718357880394574e-07},\n",
       " {'offer_merchant_HappyTrade': 0.0},\n",
       " {'offer_merchant_HavenLoveCouture USA Inc': -4.5919141432222607e-07},\n",
       " {'offer_merchant_HerRoom': -4.1341543093068675e-08},\n",
       " {'offer_merchant_Home Audio Solutions': -1.107391813618482e-05},\n",
       " {'offer_merchant_Hoot Deals!': -1.7191118827602612e-07},\n",
       " {'offer_merchant_Houser Shoes': 7.94693288684985e-05},\n",
       " {'offer_merchant_Hyper Tech (NO TAX Anywhere)': -4.999519790953315e-07},\n",
       " {'offer_merchant_IPA, Factory Warranty': -4.447144498287142e-07},\n",
       " {'offer_merchant_Imperial123': -3.0781369371786683e-07},\n",
       " {'offer_merchant_Inspector Gadget 911': -2.5912994062086166e-07},\n",
       " {'offer_merchant_InterWatches': -7.59152650869959e-08},\n",
       " {'offer_merchant_Inventory Adjusters': 0.0},\n",
       " {'offer_merchant_IsaacTronics': -4.933692775492022e-08},\n",
       " {\"offer_merchant_Izzy's Beauty Shoppe\": -1.6576190635752877e-07},\n",
       " {'offer_merchant_J &Y Bags': -1.104499065776751e-06},\n",
       " {'offer_merchant_J Audio': -4.6213319819921035e-08},\n",
       " {'offer_merchant_JD & E ECOM': -4.5693527884694495e-07},\n",
       " {'offer_merchant_JMT Online Shop': -1.648161704150899e-07},\n",
       " {'offer_merchant_JMsneakers': -4.1312591474773123e-08},\n",
       " {'offer_merchant_Jamesons': -7.687139628320966e-07},\n",
       " {\"offer_merchant_Jessica's Beauty Shop\": -1.3219440611878485e-06},\n",
       " {'offer_merchant_John Upper': -4.175817875213676e-08},\n",
       " {'offer_merchant_Just Simplicity': -4.947799351040393e-07},\n",
       " {'offer_merchant_K&C Jewelry': -2.16448794661072e-07},\n",
       " {'offer_merchant_Kasa Style': -4.1436523793416535e-08},\n",
       " {\"offer_merchant_Kid's Kouture\": -4.1620065770770444e-08},\n",
       " {'offer_merchant_Koo Koo 4 Closeouts': -4.142933880445837e-08},\n",
       " {'offer_merchant_Kotore': -3.9833886014991594e-07},\n",
       " {\"offer_merchant_Kylie's Kosmetics\": -1.3876430649010144e-06},\n",
       " {'offer_merchant_L&X': -1.253029947401724e-07},\n",
       " {\"offer_merchant_L'OCCITANE\": -6.295185291807006e-07},\n",
       " {'offer_merchant_LUX LAIR': -1.5394421754841353e-07},\n",
       " {'offer_merchant_LUXBEAUTY': -1.2426355544860748e-07},\n",
       " {'offer_merchant_LUXURY FINDERS': -1.1756147533430693e-07},\n",
       " {'offer_merchant_La Dolce Vitae': -3.929026273507445e-07},\n",
       " {\"offer_merchant_Larry's Boutique\": -1.883461008357513e-07},\n",
       " {'offer_merchant_Lipsticknet': -2.0614795306707497e-07},\n",
       " {'offer_merchant_Logansloft': -2.508923707156621e-07},\n",
       " {'offer_merchant_Lolanndic': -1.984515193725353e-05},\n",
       " {'offer_merchant_LongIslandFashion': -2.1431515381749365e-07},\n",
       " {'offer_merchant_LovelySkin com': -4.7444816207690355e-06},\n",
       " {'offer_merchant_Lux Time': -1.4061375555836333e-07},\n",
       " {'offer_merchant_Luxforia by My discounted perfume llc': -1.240328653496418e-07},\n",
       " {'offer_merchant_Luxury Bazaar CPO Watches': -1.6449430983285677e-07},\n",
       " {'offer_merchant_Luxury Shop 4 Less': -1.2412871901482382e-07},\n",
       " {'offer_merchant_LuxuryDiscountStore': 1.940461448082327e-06},\n",
       " {'offer_merchant_Luxuryfreeshop': 4.2631142737679567e-07},\n",
       " {'offer_merchant_Luxurywatchstore': -1.737012947822079e-07},\n",
       " {'offer_merchant_MAKEUPLOVERS': -3.9791126005116345e-07},\n",
       " {'offer_merchant_MJaroundtheclock': -4.429599341620574e-08},\n",
       " {'offer_merchant_MS-TR JAPAN': -7.32791547564044e-08},\n",
       " {'offer_merchant_Made You Blush': -4.1883832878501365e-08},\n",
       " {'offer_merchant_Make it Up': -4.947918738579551e-07},\n",
       " {'offer_merchant_MakeBeauty': -4.2188378897436776e-08},\n",
       " {'offer_merchant_MakeupVendor': -1.2461589998950393e-07},\n",
       " {'offer_merchant_Maple Prime': 0.0},\n",
       " {'offer_merchant_Marthasboutique': -1.2048577009057708e-06},\n",
       " {'offer_merchant_Matilda F & C': -2.138714193199069e-07},\n",
       " {'offer_merchant_Mega Depot': -5.105529503844119e-07},\n",
       " {'offer_merchant_Michael Schumacher Ferrari F1 Fan Shop': -7.908907534010758e-07},\n",
       " {'offer_merchant_Miss-Gorgeous': 1.4115900609138938e-06},\n",
       " {'offer_merchant_Modenti Co.': -8.375457786172345e-08},\n",
       " {\"offer_merchant_Molly's corner\": -1.2353502867478734e-07},\n",
       " {'offer_merchant_MultiWatchBrand': -1.4377072369397745e-07},\n",
       " {'offer_merchant_My Gift Stop': -8.960796906116941e-07},\n",
       " {'offer_merchant_Mybeautystore': -1.251046993172015e-07},\n",
       " {'offer_merchant_Narika Express': -7.919097217989743e-08},\n",
       " {'offer_merchant_NaturalBeautyInc': -9.220091155631268e-05},\n",
       " {'offer_merchant_NickTechShop': -4.4415832772341055e-07},\n",
       " {'offer_merchant_Nieboo-UK': 3.068040430932617e-05},\n",
       " {'offer_merchant_Nordic Clinical': -8.71915061565735e-07},\n",
       " {'offer_merchant_ONE MODA': -5.7318641818002455e-08},\n",
       " {'offer_merchant_One Life Luxuries': -7.062854709356463e-07},\n",
       " {'offer_merchant_OneCall': -2.4542820477322577e-07},\n",
       " {'offer_merchant_OneCall in easy-to-open packaging': -3.9500355030433543e-07},\n",
       " {'offer_merchant_OneLittleBox': -7.506902894321051e-07},\n",
       " {'offer_merchant_POSH BABIES': -4.117327252122541e-08},\n",
       " {\"offer_merchant_Pandora's Purse\": 9.997547991664872e-05},\n",
       " {'offer_merchant_Pat Beauty': -1.023177206722401e-06},\n",
       " {'offer_merchant_Perfect Timing': -1.6245219412640402e-06},\n",
       " {'offer_merchant_Perfumes Rush': -3.743675718732477e-07},\n",
       " {'offer_merchant_PerfumesWorld': -3.8092806932416787e-07},\n",
       " {'offer_merchant_PharmacBeauty': -1.2300274024997177e-07},\n",
       " {'offer_merchant_Pharmapacks': -2.235355090228896e-05},\n",
       " {'offer_merchant_Phusia': -3.3130915960630734e-07},\n",
       " {'offer_merchant_Planet Beauty': -1.4996930215165065e-06},\n",
       " {'offer_merchant_Plus Brands': -1.8200658411616016e-07},\n",
       " {'offer_merchant_PrimeDeals Online': -1.0152841973234275e-07},\n",
       " {'offer_merchant_Princeton Watches': 3.827296050205793e-06},\n",
       " {'offer_merchant_ProElectronics Distributing': 4.3357350026057873e-05},\n",
       " {'offer_merchant_Profile Beauty': -5.082736108200251e-06},\n",
       " {'offer_merchant_PromenadeWatches': -1.2821077409044828e-07},\n",
       " {'offer_merchant_Qwik Goods': -5.754311364227972e-07},\n",
       " {'offer_merchant_RDBrands': -2.4368890957953257e-06},\n",
       " {'offer_merchant_ROYAL TIME': -4.360412502814419e-07},\n",
       " {'offer_merchant_RangePlus - Shipped from the UK.': -8.236903199588266e-08},\n",
       " {'offer_merchant_Re-Com': -6.308534217951817e-07},\n",
       " {'offer_merchant_RetroRetail': -1.7293486139469684e-07},\n",
       " {'offer_merchant_Rising Phoenix Online': -9.990753061128397e-07},\n",
       " {'offer_merchant_Roberto Bianci Shop': -5.244564403669823e-07},\n",
       " {'offer_merchant_S. Diamonds': -2.4348076225247497e-07},\n",
       " {'offer_merchant_S.O.U. Distributors': -4.198185384445413e-08},\n",
       " {'offer_merchant_SAI HOLDINGS WW INC': -6.598847437299811e-07},\n",
       " {'offer_merchant_SHOEBACCA': -8.518773063067351e-06},\n",
       " {'offer_merchant_SOT GLOBAL CORP': -4.389689182789647e-08},\n",
       " {'offer_merchant_SPEEDGEAR Authentic Racewear': -1.2557613702426538e-07},\n",
       " {'offer_merchant_SS Watch Store': -1.1435744276498183e-06},\n",
       " {'offer_merchant_SSTAR BEAUTY': -4.134871023290033e-08},\n",
       " {\"offer_merchant_Sam's Watches\": -7.393748723387848e-07},\n",
       " {'offer_merchant_Samurai‹ÛÛJapan': -1.6432161105879658e-07},\n",
       " {'offer_merchant_Savich Wholesale': -1.355802934373125e-06},\n",
       " {'offer_merchant_SavingsHUB': -1.2939337802232484e-07},\n",
       " {'offer_merchant_Science Serum US': -4.23093004556047e-08},\n",
       " {'offer_merchant_Sea-O-Deals': -2.934299236080637e-07},\n",
       " {'offer_merchant_Sentir Bellexo': -2.9729951578971802e-09},\n",
       " {'offer_merchant_Shamatas': -1.2791431190409793e-07},\n",
       " {'offer_merchant_Shine Med/Den Supply CO': -4.1781925926315134e-08},\n",
       " {'offer_merchant_ShininRouge': -1.6757233809080092e-07},\n",
       " {'offer_merchant_ShoeAngle': 0.0},\n",
       " {'offer_merchant_Shoesector': -4.2375348340648864e-08},\n",
       " {'offer_merchant_Shop More & Save More': -4.226978765990344e-08},\n",
       " {'offer_merchant_Shop Munki': -8.544682544003503e-08},\n",
       " {'offer_merchant_Shopbop | East Dane (an Amazon company)': -2.106111417185712e-07},\n",
       " {'offer_merchant_SoleCravings': 0.0},\n",
       " {'offer_merchant_Spark Deals': 2.8139159801695944e-05},\n",
       " {'offer_merchant_SpddyS LLC': -1.7571069417790006e-07},\n",
       " {'offer_merchant_Specialty Skincare': -7.460395625993171e-07},\n",
       " {'offer_merchant_Specialty Store': -8.465755865758218e-08},\n",
       " {'offer_merchant_Sprout.': -4.196698663605807e-08},\n",
       " {'offer_merchant_Streetmoda': -8.34360399433964e-08},\n",
       " {'offer_merchant_Sunglass Hut': -3.2226769775652906e-07},\n",
       " {'offer_merchant_SunnyDay Electronics': -4.2351882227828354e-08},\n",
       " {'offer_merchant_Sunrise Mom': -1.7047720987679887e-06},\n",
       " {'offer_merchant_Susans Closet': -6.284120294093803e-08},\n",
       " {'offer_merchant_THE IMAGE': -2.9071875213157897e-07},\n",
       " {'offer_merchant_TREASURE COVE PREMIUM OUTLET': 0.0},\n",
       " {'offer_merchant_Tech Union': -6.054528348698311e-07},\n",
       " {'offer_merchant_Tech Venture': -5.406476556532992e-06},\n",
       " {'offer_merchant_Techmantoys': -1.230656839092773e-07},\n",
       " {'offer_merchant_Teczilla': -4.215289088135292e-08},\n",
       " {'offer_merchant_Texas Fashion Depot': -6.462453412782892e-07},\n",
       " {'offer_merchant_The Candy/Cosmetic Depot': -4.10603451736516e-07},\n",
       " {'offer_merchant_The Digital Cantina': -1.0569099290830026e-06},\n",
       " {'offer_merchant_The Surf Boutique': -4.1897342260315517e-08},\n",
       " {'offer_merchant_The Watch Locker': 9.266050519227711e-07},\n",
       " {'offer_merchant_TheFactoryDepot': -8.65954414074074e-08},\n",
       " {'offer_merchant_TheGreenLeaf': -5.093961924859873e-07},\n",
       " {'offer_merchant_TheHabituel': -1.2371080984135037e-07},\n",
       " {'offer_merchant_TheSalesConnection': -2.320848766199987e-07},\n",
       " {'offer_merchant_TheWatchStation': -1.1905002578819646e-06},\n",
       " {'offer_merchant_TheWatchmaker': -1.6660609196897932e-07},\n",
       " {'offer_merchant_Tic Time Trends': -6.01527912384908e-07},\n",
       " {'offer_merchant_Time Japan': -6.33347462192758e-08},\n",
       " {'offer_merchant_Time To Shop': -6.152171590294876e-07},\n",
       " {'offer_merchant_Tons of Fun Toys': -3.5496607266093175e-06},\n",
       " {'offer_merchant_TruSkin Naturals': 2.1859580040821264e-05},\n",
       " {'offer_merchant_USA Fashion & Beauty': -2.887751109657501e-07},\n",
       " {'offer_merchant_USA GOODS & SALES': -4.1685417369770985e-08},\n",
       " {'offer_merchant_USA store': -8.424375980290758e-08},\n",
       " {'offer_merchant_Unavailable': -0.00033715795993438386},\n",
       " {'offer_merchant_VIP Colors': -8.310473313280753e-08},\n",
       " {'offer_merchant_VSDY': -1.6645037940900744e-06},\n",
       " {'offer_merchant_VTC Direct': -1.2531340996247714e-07},\n",
       " {'offer_merchant_VirVentures': -4.316249763730249e-08},\n",
       " {'offer_merchant_WATCH WAREHOUSE': -1.708546480716235e-07},\n",
       " {'offer_merchant_WORLD WIDE STEREO': -5.076529517649212e-07},\n",
       " {'offer_merchant_WSI Watch Station International': -1.8071420392335085e-06},\n",
       " {'offer_merchant_Watch Cove': -9.583520856190972e-07},\n",
       " {'offer_merchant_Watch Guyz': -7.882317296304692e-07},\n",
       " {'offer_merchant_Watch Your Time': -3.6255157327163416e-07},\n",
       " {'offer_merchant_WatchMaxx': -3.5617628907304103e-06},\n",
       " {'offer_merchant_WatchZone': -4.3266147571941053e-08},\n",
       " {'offer_merchant_WatchesZon': -2.486504964757434e-06},\n",
       " {'offer_merchant_WatchesandCrystalsUSA': -5.354835433899033e-08},\n",
       " {'offer_merchant_Watchsavings': -6.235244202652695e-06},\n",
       " {'offer_merchant_Watchtimeny': -7.874162594387703e-07},\n",
       " {'offer_merchant_Webzom': -8.24559419234422e-08},\n",
       " {'offer_merchant_WiberLUX': -6.429771634077474e-08},\n",
       " {'offer_merchant_Wireless Guru': 0.0},\n",
       " {'offer_merchant_YMBeauty': -1.2507996039849935e-07},\n",
       " {'offer_merchant_YoneLay': -2.502573063954867e-06},\n",
       " {'offer_merchant_ZK_MARKET': -4.2475806462226396e-08},\n",
       " {'offer_merchant_allbeauty-com (US Tracked Delivery 4-6 Bus. days)': -1.2489054612268173e-07},\n",
       " {'offer_merchant_azvettes': 6.951980202158648e-06},\n",
       " {'offer_merchant_bareBeauty247': -4.1518919768238e-08},\n",
       " {'offer_merchant_beautydeals716': 0.0},\n",
       " {'offer_merchant_beautyseller': -1.075665645575775e-06},\n",
       " {'offer_merchant_bestimage': 0.0},\n",
       " {'offer_merchant_cassiecosmetics': -1.23746165435468e-07},\n",
       " {'offer_merchant_chicagowind': -1.2000860775029836e-06},\n",
       " {'offer_merchant_closeout source inc': -5.777023735774144e-07},\n",
       " {'offer_merchant_cosabeauty': -5.398840205175073e-07},\n",
       " {'offer_merchant_cozylem': -1.0241314243453717e-06},\n",
       " {'offer_merchant_e-market!': 2.6340360267885815e-05},\n",
       " {'offer_merchant_eBags': -3.635547721569899e-06},\n",
       " {'offer_merchant_eLuxotic': -4.2228970753637074e-08},\n",
       " {'offer_merchant_fussybot': -8.252876921131172e-08},\n",
       " {'offer_merchant_global777watches': -4.8168521674208e-07},\n",
       " {'offer_merchant_globalbeautybuy': -8.497820385450884e-08},\n",
       " {'offer_merchant_go8beauty': -3.717024729659731e-07},\n",
       " {'offer_merchant_golden mermaid': -6.583943526090152e-07},\n",
       " {'offer_merchant_hisnhers': -8.252606606558335e-08},\n",
       " {'offer_merchant_homeandbodyessentials': -1.820334724642791e-06},\n",
       " {'offer_merchant_iWear Solutions': -5.699942566945951e-07},\n",
       " {'offer_merchant_iZabog': -5.835678164220914e-07},\n",
       " {'offer_merchant_lindabeststore': -3.353358493172783e-07},\n",
       " {'offer_merchant_magilladan': -4.136223845820309e-07},\n",
       " {'offer_merchant_moscho-group': -6.648401887829216e-07},\n",
       " {'offer_merchant_myBeautyWarehouse': -1.2380164988376303e-07},\n",
       " {'offer_merchant_oneofakinddeals': -2.4914672299659964e-07},\n",
       " {'offer_merchant_onlinegifts': -1.3336558874716974e-06},\n",
       " {'offer_merchant_paradisejewelry': -4.402321044742631e-08},\n",
       " {'offer_merchant_pixmaz': -4.153565118058318e-08},\n",
       " {'offer_merchant_rebornvenus': 1.533361118936154e-06},\n",
       " {'offer_merchant_rymstores': -8.29797440196943e-08},\n",
       " {'offer_merchant_selectfinebrands': -4.1284363516119344e-08},\n",
       " {'offer_merchant_shelproducts': -1.359239475353307e-05},\n",
       " {'offer_merchant_shopUSAmall': -4.215860336774429e-08},\n",
       " {'offer_merchant_shophydra': 6.351897422788659e-05},\n",
       " {'offer_merchant_trendywatch': -4.854872364616908e-08},\n",
       " {'offer_merchant_usabuyer': -2.0151625299956124e-06},\n",
       " {'offer_merchant_vmustshop2day': -1.238888527753906e-07},\n",
       " {'offer_merchant_wholesale llcc': -2.0654587869389242e-07},\n",
       " {'offer_merchant_wyunion': -5.37266393904883e-07},\n",
       " {'brand_7': -1.2810700399867703e-07},\n",
       " {'brand_A': -2.4231223774318834e-06},\n",
       " {'brand_ASICS': -0.0009773881415908283},\n",
       " {'brand_Anastasia Beverly Hills': 0.00010001627359310423},\n",
       " {'brand_Apple': -1.00546667090049e-06},\n",
       " {'brand_Aveeno': -4.1582226211242236e-08},\n",
       " {'brand_Aveeno Baby': -8.249773337667219e-08},\n",
       " {'brand_BALLY': -2.724859357041165e-07},\n",
       " {'brand_BURBERRY': 0.000120177091308699},\n",
       " {'brand_Babor': -1.3058447294313056e-06},\n",
       " {'brand_Bare Escentuals': -4.507753143193365e-06},\n",
       " {'brand_Baxter of California': -5.977102877415673e-05},\n",
       " {'brand_Beats': 2.2693105529598976e-05},\n",
       " {'brand_Benefit Cosmetics': -4.448972228262473e-06},\n",
       " {'brand_Birkenstock': 0.00046334206250174726},\n",
       " {'brand_Bobbi Brown': -4.884563193921005e-06},\n",
       " {'brand_Borghese': -7.775809736977286e-06},\n",
       " {'brand_Bose': -1.946233377484261e-05},\n",
       " {'brand_Bowers & Wilkins': -1.7571069417790006e-07},\n",
       " {'brand_Breitling': -4.883103137178535e-07},\n",
       " {\"brand_Brickell Men's Products\": -1.4265148866995536e-05},\n",
       " {'brand_Bulova': -2.3902822123048413e-06},\n",
       " {\"brand_Burt's Bees\": -2.106242012089817e-05},\n",
       " {'brand_CHANEL': -6.297278437579168e-07},\n",
       " {'brand_CHARLOTTE TILBURY': -4.205848142773061e-08},\n",
       " {'brand_CHI': 0.00011344979230811967},\n",
       " {'brand_COVERGIRL': -9.813355355525043e-06},\n",
       " {'brand_Calvin Klein': 0.0002281237787431873},\n",
       " {'brand_Calvin Klein Cotton Classic Multipack Briefs': -1.4234446395276407e-05},\n",
       " {\"brand_Calvin Klein Jeans Women's\": -3.2283077277606363e-06},\n",
       " {'brand_Cartier': -2.3168704837436068e-07},\n",
       " {'brand_CeraVe': -4.5557814419795124e-05},\n",
       " {'brand_Christian Dior': -5.924927922245773e-07},\n",
       " {'brand_Clarisonic': 5.6767353444723786e-05},\n",
       " {'brand_Clinique': -5.0951181158759256e-06},\n",
       " {'brand_Coach': 3.5137096286398416e-05},\n",
       " {'brand_Cole': -2.1569314418612114e-05},\n",
       " {'brand_Cole Haan Signature': -3.394176773659124e-06},\n",
       " {'brand_Colourpop': -1.2402013948909794e-07},\n",
       " {'brand_Converse': -1.3297019623400823e-05},\n",
       " {'brand_Diane von Furstenberg': -5.69466871445884e-07},\n",
       " {'brand_Diesel': -7.520766043131232e-07},\n",
       " {'brand_Dior': -4.904303417740035e-06},\n",
       " {'brand_Dolce & Gabbana': -1.6767205157107988e-07},\n",
       " {'brand_Dove': -8.757387781965462e-06},\n",
       " {'brand_ELEMIS': 4.415030258271089e-05},\n",
       " {'brand_ETEREAUTY': -1.984515193725353e-05},\n",
       " {'brand_Elchim': -1.2380164988376303e-07},\n",
       " {'brand_Emporio': 1.5448850415223833e-06},\n",
       " {'brand_Estee Lauder': -5.789896065883797e-06},\n",
       " {'brand_Fendi': 1.0116640016421999e-05},\n",
       " {'brand_Ferrari': -2.153959426209685e-06},\n",
       " {'brand_Fossil': -1.0182815842107376e-05},\n",
       " {'brand_GIORGIO ARMANI': -4.324609637486241e-08},\n",
       " {'brand_GUESS Factory': -8.337131069250605e-08},\n",
       " {'brand_Garnier': -2.2401401648223298e-05},\n",
       " {'brand_Gucci': -3.7013001368548993e-07},\n",
       " {'brand_HUGGIES': 0.00014737879819589047},\n",
       " {'brand_Harman Kardon': -1.0826000833806835e-06},\n",
       " {'brand_Hublot': -1.6449430983285677e-07},\n",
       " {'brand_Hugo': -1.0193854769161514e-05},\n",
       " {'brand_JBL': -5.426254190696752e-06},\n",
       " {'brand_JIMMY CHOO': -4.783599010482005e-08},\n",
       " {'brand_Jack Black': -3.168126937286213e-05},\n",
       " {'brand_Jaybird': -8.868912630697336e-08},\n",
       " {'brand_Johnson & Johnson': -7.443478886295098e-07},\n",
       " {\"brand_Johnson's\": -4.964285853716242e-07},\n",
       " {'brand_Julep': -1.5749216617781345e-06},\n",
       " {'brand_Kat Von D': -1.6567287170507765e-06},\n",
       " {'brand_Kate': -2.6926111431056086e-06},\n",
       " {\"brand_Kiehl's\": -7.920758664367745e-07},\n",
       " {'brand_Klipsch': -1.4602277113782627e-06},\n",
       " {\"brand_L'Occitane\": -6.295185291807006e-07},\n",
       " {\"brand_L'Oreal Paris\": -3.5496607266093175e-06},\n",
       " {'brand_LANCOME PARIS': 1.3042967023282722e-05},\n",
       " {'brand_LANCï¿½ME': -8.271751926195573e-08},\n",
       " {'brand_LG': -5.749791340847482e-06},\n",
       " {'brand_La Roche-Posay': -8.373284081472788e-06},\n",
       " {'brand_Lacoste': 7.442799182972963e-05},\n",
       " {'brand_Lancome': -5.37266393904883e-07},\n",
       " {'brand_LancomÃ©': -4.131986765305456e-08},\n",
       " {'brand_Lauren by Ralph Lauren': -2.2986305000127694e-06},\n",
       " {'brand_Lilly': -8.408755087837573e-06},\n",
       " {'brand_LilyAna Naturals': -4.624328567651255e-05},\n",
       " {'brand_LilyAna+Naturals': -4.595762587769682e-05},\n",
       " {'brand_Longchamp': -4.772052673279935e-07},\n",
       " {'brand_Longines': -1.0510185415193273e-06},\n",
       " {'brand_Louis Vuitton': -1.9789127810475072e-07},\n",
       " {'brand_Lululemon': -1.2849227248066276e-07},\n",
       " {'brand_M.A.C': 0.00011763397521985828},\n",
       " {'brand_MAC': -2.812932130852167e-06},\n",
       " {'brand_MICHAEL': 6.0826981947868615e-05},\n",
       " {'brand_MICHELE': -1.528142794217007e-07},\n",
       " {'brand_Make Up For Ever': -3.627481244306711e-06},\n",
       " {'brand_Marc': -2.073922224403845e-06},\n",
       " {'brand_Marc Jacobs': -1.3639219091985813e-06},\n",
       " {'brand_Marc Jacobs Beauty': -1.251046993172015e-07},\n",
       " {'brand_Maybelline New York': -6.180450146307247e-06},\n",
       " {'brand_Michael': -6.7943064044458725e-06},\n",
       " {'brand_Movado': 1.729050727154906e-05},\n",
       " {'brand_NARS': -2.871623162151897e-06},\n",
       " {'brand_NIKE': 9.267069977026901e-05},\n",
       " {'brand_NORDIC CLINICAL': -8.71915061565735e-07},\n",
       " {'brand_NYX': -7.118730364621548e-07},\n",
       " {'brand_Neutrogena': -0.00010675657274061027},\n",
       " {'brand_New Balance': -0.0006266199510594489},\n",
       " {'brand_Obagi Medical': 3.0247164404316116e-05},\n",
       " {'brand_Olay': 1.2867004372739618e-05},\n",
       " {'brand_Old Spice': -3.473308844663764e-06},\n",
       " {'brand_Omega': -4.1558776038269325e-06},\n",
       " {'brand_PHILIP B': -8.903068998476277e-06},\n",
       " {'brand_PUMA': -0.00020517687984161016},\n",
       " {'brand_Patagonia': -5.90440317677393e-06},\n",
       " {'brand_Peugeot': -1.2531340996247714e-07},\n",
       " {'brand_Philip B.': -1.0764061694771013e-06},\n",
       " {'brand_Pioneer': -2.3831169032154175e-06},\n",
       " {'brand_Polk Audio': -1.1182051259793302e-06},\n",
       " {'brand_Polo Ralph Lauren': 0.00013688829651868148},\n",
       " {'brand_Prada': -3.840958394479926e-07},\n",
       " {'brand_Pumas': -2.9412767080750337e-07},\n",
       " {'brand_RALPH LAUREN': 1.9866538848680722e-05},\n",
       " {'brand_Rado': -1.4601656002208754e-06},\n",
       " {'brand_Ralph Lauren Polo': -8.378746191936951e-08},\n",
       " {'brand_Raymond Weil': -1.2814888059054137e-06},\n",
       " {'brand_Rebecca': -1.26018251994119e-07},\n",
       " {'brand_Reebok': -0.0002297319516453268},\n",
       " {'brand_Revlon': -8.505167092880773e-05},\n",
       " {'brand_Roberto Cavalli': -1.314964303992042e-07},\n",
       " {'brand_Roberto Cavalli by Franck Muller': 0.0},\n",
       " {'brand_Rolex': -1.1474886118197887e-06},\n",
       " {'brand_Saint Laurent': -6.429771634077474e-08},\n",
       " {'brand_Sally Hansen': -1.2047676894107262e-05},\n",
       " {'brand_Salvatore Ferragamo': 2.5567014074361967e-06},\n",
       " {'brand_Samsung': 3.202701988497809e-05},\n",
       " {'brand_Science Serum': -4.23093004556047e-08},\n",
       " {'brand_Shiseido': -5.429982145814913e-06},\n",
       " {'brand_SkinMedica': -5.394889276733495e-07},\n",
       " {'brand_Smashbox': 6.766073251161354e-06},\n",
       " {'brand_Sonos': -1.177029538160854e-05},\n",
       " {'brand_Sony': -4.704710494754914e-05},\n",
       " {'brand_Stella McCartney': -4.219305382926095e-08},\n",
       " {'brand_StriVectin': -2.1988900532214872e-07},\n",
       " {'brand_Stuart': -3.179478115509609e-07},\n",
       " {'brand_Swarovski': -1.4949037440496822e-06},\n",
       " {'brand_Swatch': -4.982362634688328e-06},\n",
       " {'brand_T3 Micro': -2.2458752141624672e-07},\n",
       " {'brand_TAG Heuer': 1.705364738891623e-05},\n",
       " {'brand_TOMS': 0.00016010380162646238},\n",
       " {'brand_Tarte': 2.1268109482405946e-05},\n",
       " {'brand_The Honest Company': -2.071214908858118e-07},\n",
       " {'brand_The North Face': -1.7260141676092276e-05},\n",
       " {'brand_Tiffany & Co.': -7.32791547564044e-08},\n",
       " {'brand_Timberland': 6.77801261132246e-05},\n",
       " {'brand_Tissot': -2.0102662906172185e-06},\n",
       " {'brand_Tom Ford': -9.509223261555729e-07},\n",
       " {'brand_Tommy': -3.8384576928596195e-05},\n",
       " {'brand_Too Faced': 6.030544290587423e-05},\n",
       " {'brand_Tory Burch': -1.0972715968257101e-06},\n",
       " {'brand_Toshiba': -1.564077651247623e-07},\n",
       " {'brand_TruSkin Naturals': 2.1859580040821264e-05},\n",
       " {'brand_URBAN DECAY': -4.623826187742519e-07},\n",
       " {'brand_Ultimate Ears': -6.387541250632873e-07},\n",
       " {'brand_Under': -6.254125749106278e-07},\n",
       " {'brand_Under Armour': -0.00020067563892715067},\n",
       " {'brand_VALENTINO by Mario Valentino': -4.2506433678361985e-08},\n",
       " {'brand_VINCENT LONGO': -8.289677359803507e-08},\n",
       " {'brand_Vans': -3.602925861738037e-05},\n",
       " {'brand_Versace': -1.26469856775894e-06},\n",
       " {'brand_Versace Jeans': -3.0224443569241786e-07},\n",
       " {'brand_Versus by Versace': -5.257978706388079e-07},\n",
       " {'brand_Victorinox': -3.800582044381929e-06},\n",
       " {'brand_Victorinox Swiss Army': -2.5784645742077315e-07},\n",
       " {'brand_YSL': -8.445816654206909e-08},\n",
       " {'brand_Yves Saint Laurent': -1.2515920128128804e-06},\n",
       " {'brand_adidas': 0.0007225955078364343},\n",
       " {'brand_e.l.f.': -1.1088203252608832e-06},\n",
       " {'brand_e.l.f. Cosmetics': -2.502573063954867e-06},\n",
       " {'brand_iS CLINICAL': -1.285894983765184e-05},\n",
       " {'brand_skyn ICELAND': -1.249365446296683e-07},\n",
       " {'category_Headphones': -4.640982297731915e-05},\n",
       " {'category_MakeUp': 0.00033474139356905365},\n",
       " {\"category_Men's Clothing\": 0.0003531697130420525},\n",
       " {\"category_Men's Shoes\": -0.0003415379969973105},\n",
       " {\"category_Men's Watches\": 3.7318750664649646e-05},\n",
       " {'category_SkinCare': -0.00015240954341943095},\n",
       " {\"category_Women's Clothing\": -0.00013635856365995953},\n",
       " {\"category_Women's Handbags\": 9.818164772985361e-05},\n",
       " {\"category_Women's Shoes\": -0.00023625432837223566},\n",
       " {\"category_Women's Watches\": -1.1498104894304111e-05}]"
      ]
     },
     "execution_count": 31,
     "metadata": {},
     "output_type": "execute_result"
    }
   ],
   "source": [
    "# features and coefficients\n",
    "features_listed = []\n",
    "\n",
    "for i in range(len(logreg.feature_names_in_)):\n",
    "    features_listed.append({logreg.feature_names_in_[i] : logreg.coef_[0][i]})\n",
    "    \n",
    "features_listed"
   ]
  },
  {
   "cell_type": "code",
   "execution_count": 26,
   "id": "76943ba9-c923-4fe2-9423-80b2f16a3825",
   "metadata": {},
   "outputs": [
    {
     "name": "stdout",
     "output_type": "stream",
     "text": [
      "{'pca__n_components': 0.95, 'rfc__n_estimators': 500}\n",
      "0.9081667133805013 0.9061004455690632\n",
      "balanced_accuracy: 0.906100197498105\n",
      "recall: 0.9376679711443255\n",
      "precision: 0.8819850984566259\n",
      "f1 score: 0.9089745640697489\n"
     ]
    },
    {
     "data": {
      "text/plain": [
       "{'balanced_accuracy': 0.906100197498105,\n",
       " 'recall': 0.9376679711443255,\n",
       " 'precision': 0.8819850984566259,\n",
       " 'f1_score': 0.9089745640697489}"
      ]
     },
     "execution_count": 26,
     "metadata": {},
     "output_type": "execute_result"
    },
    {
     "data": {
      "text/plain": [
       "<Figure size 1000x800 with 0 Axes>"
      ]
     },
     "metadata": {},
     "output_type": "display_data"
    },
    {
     "data": {
      "image/png": "[encoded data removed]",
      "text/plain": [
       "<Figure size 640x480 with 2 Axes>"
      ]
     },
     "metadata": {},
     "output_type": "display_data"
    }
   ],
   "source": [
    "pca_pipe = Pipeline([\n",
    "    ('pca', PCA()),\n",
    "    ('rfc', RandomForestClassifier())\n",
    "])\n",
    "\n",
    "pca_params = {\n",
    "    'pca__n_components': [0.95],\n",
    "    'rfc__n_estimators': [500]\n",
    "    \n",
    "}\n",
    "\n",
    "gs_pca = GridSearchCV(pca_pipe, param_grid = pca_params)\n",
    "\n",
    "gs_pca.fit(x_tra, y_tra)\n",
    "\n",
    "print(gs_pca.best_params_)\n",
    "\n",
    "print(gs_pca.score(x_tra, y_tra), gs_pca.score(x_tes, y_tes))\n",
    "\n",
    "pca_preds = gs_pca.predict(x_tes)\n",
    "\n",
    "evaluation(x_tes, y_tes, pca_preds, gs_pca)"
   ]
  },
  {
   "cell_type": "markdown",
   "id": "eb5c084d-8fc7-4a24-a08c-cf31717785c0",
   "metadata": {},
   "source": [
    "---"
   ]
  }
 ],
 "metadata": {
  "kernelspec": {
   "display_name": "Python 3 (ipykernel)",
   "language": "python",
   "name": "python3"
  },
  "language_info": {
   "codemirror_mode": {
    "name": "ipython",
    "version": 3
   },
   "file_extension": ".py",
   "mimetype": "text/x-python",
   "name": "python",
   "nbconvert_exporter": "python",
   "pygments_lexer": "ipython3",
   "version": "3.9.13"
  }
 },
 "nbformat": 4,
 "nbformat_minor": 5
}
